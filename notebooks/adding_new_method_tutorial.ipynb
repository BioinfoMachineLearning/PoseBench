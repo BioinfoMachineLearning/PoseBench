{
 "cells": [
  {
   "cell_type": "markdown",
   "metadata": {},
   "source": [
    "# `PoseBench` Tutorial, Part 2 - Adding a New Method\n",
    "![Methods](../img/PoseBench_Methods.png)"
   ]
  },
  {
   "cell_type": "markdown",
   "metadata": {},
   "source": [
    "## Overview\n",
    "\n",
    "`PoseBench` implements several recent methods for protein-ligand docking and structure prediction. However, you may want to add your own (new) method to `PoseBench` to rigorously benchmark the algorithm for both *single* and *multi*-ligand prediction targets. This tutorial will show you how to do that.\n",
    "\n",
    "To add your custom method to `PoseBench`, you just have to follow the following 6-step procedure:\n",
    "\n",
    "1. Update the config files within `configs/analysis/` and at `configs/model/ensemble_generation.yaml`, `configs/model/inference_relaxation.yaml`, and `configs/model/vina_inference.yaml` to list your new method as a CLI argument (e.g., `method: newest_model`)\n",
    "2. Using `configs/data/neuralplexer_input_preparation.yaml` as a template, add a new input (and, if necessary, output - e.g., `configs/data/rfaa_output_extraction.yaml`) construction script for your method to `configs/data/` (e.g., `configs/data/newest_model_input_preparation.yaml`)\n",
    "3. Clone (or copy) your new method's source code into the `forks/` directory, and then remove any traces of Git version control files (e.g., `rm -rf forks/new_method_repo/.git/`)\n",
    "4. Referencing `configs/model/neuralplexer_inference.yaml` and `src/models/neuralplexer_inference.py` as config file and source code file templates, respectively, add new inference config and source code files for your new method to `configs/model/` and `src/model/`, correspondingly\n",
    "5. After using your new inference script to test your method on an available dataset (e.g., `casp15`) (and after performing any necessary complex structure alignments via `src/analysis/complex_alignment.py`), score the method's results using the corresponding test dataset's analysis script within `src/analysis/` (e.g., `src/analysis/inference_analysis_casp.py`), and then plot the final results by adding the results' CSV file path(s) to the corresponding dataset's interaction analysis and results plotting notebooks within the `notebooks/` directory (e.g., `notebooks/casp15_method_interaction_analysis_plotting.ipynb` and `notebooks/casp15_inference_results_plotting.ipynb`)\n",
    "6. To enable convenient inference sweeps with your new method, add support for your new method to `scripts/build_inference_script.py`"
   ]
  },
  {
   "cell_type": "markdown",
   "metadata": {},
   "source": [
    "## Wrapping up\n",
    "\n",
    "Have any additional questions about adding your new method to `PoseBench`? [Create a new issue](https://github.com/BioinfoMachineLearning/PoseBench/issues/new/choose) on our [GitHub repository](https://github.com/BioinfoMachineLearning/PoseBench). We would be happy to work with you."
   ]
  }
 ],
 "metadata": {
  "language_info": {
   "name": "python"
  }
 },
 "nbformat": 4,
 "nbformat_minor": 2
}
