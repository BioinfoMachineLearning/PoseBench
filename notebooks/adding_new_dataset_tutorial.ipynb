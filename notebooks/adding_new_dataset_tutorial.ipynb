{
 "cells": [
  {
   "cell_type": "markdown",
   "metadata": {},
   "source": [
    "# `PoseBench` Tutorial, Part 1 - Adding a New Dataset\n",
    "![Datasets](../img/PoseBench_Datasets.png)"
   ]
  },
  {
   "cell_type": "markdown",
   "metadata": {},
   "source": [
    "## Overview\n",
    "\n",
    "`PoseBench` encompasses several datasets for benchmarking protein-ligand structure prediction methods. However, you may want to add your own dataset to `PoseBench` to fulfill a specific use case or to test a specific idea. This tutorial will show you how to do so for a new collection of *single*-ligand protein complexes. For help integrating a new *multi*-ligand protein complex dataset, please create a new GitHub issue or send us an email. We would be happy to help you add this new collection to the benchmark!\n",
    "\n",
    "To add your custom *single*-ligand dataset to `PoseBench`, you just have to follow the following 5-step procedure:\n",
    "\n",
    "1. Create a new directory under `data/` with the required suffix `_set` (e.g., `data/newest_set/`) and group your (ground-truth) data files by unique IDs within this new directory (e.g., `data/newest_set/1G9V_RQ4/1G9V_RQ4_{protein.pdb,ligand.sdf}`)\n",
    "2. Update the config files throughout `configs/analysis/`, `configs/data/`, and `configs/model/` to list your new dataset as a CLI argument (e.g., `dataset: newest`)\n",
    "3. Predict `apo` protein structures for your new dataset using a structure predictor of your choice (e.g., ESMFold) by integrating parsing for your dataset into the prediction-related source code within `src/data/components/protein_fasta_preparation.py` and `src/data/components/protein_apo_to_holo_alignment.py`\n",
    "4. Using `notebooks/posebusters_method_interaction_analysis_plotting.ipynb` and `notebooks/posebusters_benchmark_inference_results_plotting.ipynb` as templates, add two new Jupyter notebooks to `notebooks/` to, respectively, locally cache each baseline method's predicted protein-ligand interactions and plot each method's results on your new dataset (after preparing each method's dataset inputs and running inference with each desired method)\n",
    "5. To enable convenient inference sweeps with your new dataset, add support for your new dataset to `scripts/build_inference_script.py`"
   ]
  },
  {
   "cell_type": "markdown",
   "metadata": {},
   "source": [
    "## Wrapping up\n",
    "\n",
    "Have any additional questions about adding your custom dataset to `PoseBench`? [Create a new issue](https://github.com/BioinfoMachineLearning/PoseBench/issues/new/choose) on our [GitHub repository](https://github.com/BioinfoMachineLearning/PoseBench). We would be happy to work with you."
   ]
  }
 ],
 "metadata": {
  "kernelspec": {
   "display_name": "PoseBench",
   "language": "python",
   "name": "python3"
  },
  "language_info": {
   "codemirror_mode": {
    "name": "ipython",
    "version": 3
   },
   "file_extension": ".py",
   "mimetype": "text/x-python",
   "name": "python",
   "nbconvert_exporter": "python",
   "pygments_lexer": "ipython3",
   "version": "3.9.17"
  }
 },
 "nbformat": 4,
 "nbformat_minor": 2
}
