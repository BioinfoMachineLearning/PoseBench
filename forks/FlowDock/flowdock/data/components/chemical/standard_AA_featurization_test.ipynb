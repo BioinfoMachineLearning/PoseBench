{
 "cells": [
  {
   "cell_type": "code",
   "execution_count": null,
   "id": "a790013e",
   "metadata": {},
   "outputs": [],
   "source": [
    "from rdkit.Chem import AllChem"
   ]
  },
  {
   "cell_type": "code",
   "execution_count": null,
   "id": "5addae52",
   "metadata": {},
   "outputs": [],
   "source": [
    "m = AllChem.MolFromMolFile(\"20AA_peptide.mol\")"
   ]
  },
  {
   "cell_type": "code",
   "execution_count": null,
   "id": "421115e7",
   "metadata": {},
   "outputs": [],
   "source": [
    "AllChem.Compute2DCoords(m)\n",
    "AllChem.Draw.MolToImage(m)"
   ]
  },
  {
   "cell_type": "code",
   "execution_count": null,
   "id": "a164b9b1",
   "metadata": {},
   "outputs": [],
   "source": [
    "print(AllChem.MolToMolBlock(m))"
   ]
  },
  {
   "cell_type": "code",
   "execution_count": null,
   "id": "d6d21d12",
   "metadata": {},
   "outputs": [],
   "source": [
    "m = AllChem.MolFromPDBFile(\"ARG.pdb\")\n",
    "AllChem.Compute2DCoords(m)\n",
    "AllChem.Draw.MolToImage(m)"
   ]
  },
  {
   "cell_type": "code",
   "execution_count": null,
   "id": "9b604ff2",
   "metadata": {},
   "outputs": [],
   "source": [
    "m = AllChem.MolFromPDBFile(\"ALA.pdb\")\n",
    "AllChem.Compute2DCoords(m)\n",
    "AllChem.Draw.MolToImage(m)"
   ]
  },
  {
   "cell_type": "code",
   "execution_count": null,
   "id": "83b2fc70",
   "metadata": {},
   "outputs": [],
   "source": [
    "ms = []\n",
    "for code in [\n",
    "    \"ALA\",\n",
    "    \"ARG\",\n",
    "    \"ASN\",\n",
    "    \"ASP\",\n",
    "    \"CYS\",\n",
    "    \"GLN\",\n",
    "    \"GLU\",\n",
    "    \"GLY\",\n",
    "    \"HIS\",\n",
    "    \"ILE\",\n",
    "    \"LEU\",\n",
    "    \"LYS\",\n",
    "    \"MET\",\n",
    "    \"PHE\",\n",
    "    \"PRO\",\n",
    "    \"SER\",\n",
    "    \"THR\",\n",
    "    \"TRP\",\n",
    "    \"TYR\",\n",
    "    \"VAL\",\n",
    "]:\n",
    "    m = AllChem.MolFromPDBFile(f\"{code}.pdb\")\n",
    "    m = AllChem.RemoveHs(m, updateExplicitCount=True)\n",
    "    AllChem.Compute2DCoords(m)\n",
    "    ms.append(m)\n",
    "AllChem.Draw.MolsToGridImage(ms)"
   ]
  },
  {
   "cell_type": "code",
   "execution_count": null,
   "id": "aef1f6da",
   "metadata": {},
   "outputs": [],
   "source": []
  }
 ],
 "metadata": {
  "kernelspec": {
   "display_name": "Python 3 (ipykernel)",
   "language": "python",
   "name": "python3"
  },
  "language_info": {
   "codemirror_mode": {
    "name": "ipython",
    "version": 3
   },
   "file_extension": ".py",
   "mimetype": "text/x-python",
   "name": "python",
   "nbconvert_exporter": "python",
   "pygments_lexer": "ipython3",
   "version": "3.8.5"
  }
 },
 "nbformat": 4,
 "nbformat_minor": 5
}
